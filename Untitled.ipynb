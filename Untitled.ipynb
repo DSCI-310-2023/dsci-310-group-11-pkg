{
 "cells": [
  {
   "cell_type": "code",
   "execution_count": 6,
   "id": "81d9d763-be7f-4f59-80fd-37c6983615aa",
   "metadata": {},
   "outputs": [
    {
     "ename": "ModuleNotFoundError",
     "evalue": "No module named 'dsci_310_group_11_pkg'",
     "output_type": "error",
     "traceback": [
      "\u001b[0;31m---------------------------------------------------------------------------\u001b[0m",
      "\u001b[0;31mModuleNotFoundError\u001b[0m                       Traceback (most recent call last)",
      "Cell \u001b[0;32mIn[6], line 1\u001b[0m\n\u001b[0;32m----> 1\u001b[0m \u001b[38;5;28;01mfrom\u001b[39;00m \u001b[38;5;21;01mdsci_310_group_11_pkg\u001b[39;00m\u001b[38;5;21;01m.\u001b[39;00m\u001b[38;5;21;01mgrapher\u001b[39;00m \u001b[38;5;28;01mimport\u001b[39;00m correlation_table, bar_chart, vis_tree, compare_scores, show_coefficients, show_correct\n",
      "\u001b[0;31mModuleNotFoundError\u001b[0m: No module named 'dsci_310_group_11_pkg'"
     ]
    }
   ],
   "source": [
    "from dsci_310_group_11_pkg.grapher import correlation_table, bar_chart, vis_tree, compare_scores, show_coefficients, show_correct\n"
   ]
  }
 ],
 "metadata": {
  "kernelspec": {
   "display_name": "Python 3 (ipykernel)",
   "language": "python",
   "name": "python3"
  },
  "language_info": {
   "codemirror_mode": {
    "name": "ipython",
    "version": 3
   },
   "file_extension": ".py",
   "mimetype": "text/x-python",
   "name": "python",
   "nbconvert_exporter": "python",
   "pygments_lexer": "ipython3",
   "version": "3.10.8"
  }
 },
 "nbformat": 4,
 "nbformat_minor": 5
}
